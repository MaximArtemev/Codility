{
 "cells": [
  {
   "cell_type": "code",
   "execution_count": 1,
   "metadata": {
    "collapsed": true
   },
   "outputs": [],
   "source": [
    "import telegram, logging\n",
    "\n",
    "from telegram.ext import Updater, CommandHandler, Filters, MessageHandler\n",
    "\n",
    "from chatbotwrapper import PythonChatBot"
   ]
  },
  {
   "cell_type": "code",
   "execution_count": 2,
   "metadata": {
    "collapsed": false
   },
   "outputs": [],
   "source": [
    "chatbot = PythonChatBot(threshold=0.5)"
   ]
  },
  {
   "cell_type": "code",
   "execution_count": 3,
   "metadata": {
    "collapsed": true
   },
   "outputs": [],
   "source": [
    "logging.basicConfig(format='%(asctime)s - %(name)s - %(levelname)s - %(message)s', level=logging.INFO)"
   ]
  },
  {
   "cell_type": "code",
   "execution_count": 4,
   "metadata": {
    "collapsed": false
   },
   "outputs": [],
   "source": [
    "bot_train = telegram.Bot(token='386950793:AAFWQO5Exopgk-WwzHcrKEArN7tVM20OL4A')\n",
    "\n",
    "updater_train = Updater(token='386950793:AAFWQO5Exopgk-WwzHcrKEArN7tVM20OL4A')\n",
    "\n",
    "dispatcher_train = updater_train.dispatcher"
   ]
  },
  {
   "cell_type": "code",
   "execution_count": 5,
   "metadata": {
    "collapsed": true
   },
   "outputs": [],
   "source": [
    "def start_train(bot, update):\n",
    "    bot_train.send_message(chat_id=update.message.chat_id, text=\"\"\"Привет! Я готов обучаться\\n\\\n",
    "    Пришли сообщением вопрос и ответ на него.\\n\\\n",
    "    Не забудь разделить их вот этим симоволом \"|\"\n",
    "\"\"\")"
   ]
  },
  {
   "cell_type": "code",
   "execution_count": 6,
   "metadata": {
    "collapsed": true
   },
   "outputs": [],
   "source": [
    "def train(bot, update):\n",
    "    user = update.message.from_user\n",
    "    text = update.message.text\n",
    "    logging.info(\"text of %s: %s\" % (user.first_name, text))\n",
    "    bot.send_message(chat_id=update.message.chat_id, text=\"\"\"\n",
    "    Спасибо, я постараюсь хорошо обучиться.\\n\n",
    "    Покидай обучалок еще, мне нравится учиться\n",
    "    \"\"\")\n",
    "    try:\n",
    "        train_text = text.split('|')\n",
    "        chatbot.train(train_text[0], train_text[1])\n",
    "    except Exception as e:\n",
    "        logging.warning(\"Произошла ошибка -{}- \\nНа обучающем тексте -{}-\".format(e, text))\n",
    "        bot.send_message(chat_id=update.message.chat_id, text=\"Не получилось обучиться. Может быть неправильный формат?\")\n",
    "    else:\n",
    "        logging.info(\"Обучение на обучающем тексте -{}- прошло успешно\".format(text))"
   ]
  },
  {
   "cell_type": "code",
   "execution_count": 7,
   "metadata": {
    "collapsed": true
   },
   "outputs": [],
   "source": [
    "start_handler_train = CommandHandler('start', start_train)\n",
    "text_handler_train = MessageHandler(Filters.text, train)\n",
    "\n",
    "dispatcher_train.add_handler(start_handler_train)\n",
    "dispatcher_train.add_handler(text_handler_train)"
   ]
  },
  {
   "cell_type": "code",
   "execution_count": 8,
   "metadata": {
    "collapsed": false
   },
   "outputs": [
    {
     "data": {
      "text/plain": [
       "<queue.Queue at 0x10b160e10>"
      ]
     },
     "execution_count": 8,
     "metadata": {},
     "output_type": "execute_result"
    }
   ],
   "source": [
    "updater_train.start_polling()"
   ]
  },
  {
   "cell_type": "code",
   "execution_count": 9,
   "metadata": {
    "collapsed": true
   },
   "outputs": [],
   "source": [
    "bot_predict = telegram.Bot(token='383933408:AAHmUeE2FX_tODZfiqZUSDMNHYuO-31q1p4')\n",
    "\n",
    "updater_predict = Updater(token='383933408:AAHmUeE2FX_tODZfiqZUSDMNHYuO-31q1p4')\n",
    "\n",
    "dispatcher_predict = updater_predict.dispatcher"
   ]
  },
  {
   "cell_type": "code",
   "execution_count": 10,
   "metadata": {
    "collapsed": true
   },
   "outputs": [],
   "source": [
    "def start_predict(bot, update):\n",
    "    bot_predict.send_message(chat_id=update.message.chat_id, text=\"\"\"Привет! Меня еще учат, но кажется\\\n",
    "    что я более-менее готов отвечать на вопросы\"\"\")"
   ]
  },
  {
   "cell_type": "code",
   "execution_count": 11,
   "metadata": {
    "collapsed": false
   },
   "outputs": [],
   "source": [
    "def predict(bot, update):\n",
    "    user = update.message.from_user\n",
    "    text = update.message.text\n",
    "    logging.info(\"text of %s: %s\" % (user.first_name, text))\n",
    "    try:\n",
    "        response = chatbot.response(text)\n",
    "    except Exception as e:\n",
    "        bot.send_message(chat_id=update.message.chat_id, text=\"К сожалению что-то пошло не так\")\n",
    "        logging.warning(\"Произошла ошибка -{}- \\nПытался ответить на -{}-\".format(e, text))\n",
    "    else:\n",
    "        bot.send_message(chat_id=update.message.chat_id, text=response)\n",
    "        logging.info(\"Ответа на вопрос -{}- прошел успешно\".format(text))"
   ]
  },
  {
   "cell_type": "code",
   "execution_count": 12,
   "metadata": {
    "collapsed": true
   },
   "outputs": [],
   "source": [
    "def predict_sound(bot, update):\n",
    "    user = update.message.from_user\n",
    "    filepath = './{}_question.wav'.format(user.first_name)\n",
    "    try:\n",
    "        file_id = message.voice.file_id\n",
    "        newFile = bot.get_file(file_id)\n",
    "        newFile.download(filepath)\n",
    "        return chatbot.response_sound(filepath)\n",
    "    except Exception as e:\n",
    "        return (\"Exception: \"+str(e))\n"
   ]
  },
  {
   "cell_type": "code",
   "execution_count": 13,
   "metadata": {
    "collapsed": false
   },
   "outputs": [],
   "source": [
    "start_handler_predict = CommandHandler('start', start_predict)\n",
    "text_handler_predict = MessageHandler(Filters.text & (~Filters.voice), predict)\n",
    "voice_handler_predict = MessageHandler(Filters.voice, predict_sound)\n",
    "\n",
    "dispatcher_predict.add_handler(start_handler_predict)\n",
    "dispatcher_predict.add_handler(text_handler_predict)\n",
    "dispatcher_predict.add_handler(voice_handler_predict)"
   ]
  },
  {
   "cell_type": "code",
   "execution_count": 14,
   "metadata": {
    "collapsed": false
   },
   "outputs": [
    {
     "data": {
      "text/plain": [
       "<queue.Queue at 0x10b189278>"
      ]
     },
     "execution_count": 14,
     "metadata": {},
     "output_type": "execute_result"
    },
    {
     "name": "stderr",
     "output_type": "stream",
     "text": [
      "2017-09-16 18:16:42,795 - root - INFO - text of Maxim: Как дела?\n",
      "2017-09-16 18:16:42,870 - chatterbot.adapters - INFO - Recieved input statement: Как дела?\n",
      "2017-09-16 18:16:42,906 - chatterbot.adapters - INFO - \"Как дела?\" is a known statement\n",
      "2017-09-16 18:16:42,974 - chatterbot.adapters - INFO - Using \"Как дела?\" as a close match to \"как дела?\"\n",
      "2017-09-16 18:16:42,978 - chatterbot.adapters - INFO - Selecting response from 1 optimal responses.\n",
      "2017-09-16 18:16:42,979 - chatterbot.response_selection - INFO - Selecting first response from list of 1 options.\n",
      "2017-09-16 18:16:42,980 - chatterbot.adapters - INFO - Response selected. Using \" Да нормально\"\n",
      "2017-09-16 18:16:42,982 - chatterbot.adapters - INFO - BestMatch selected \" Да нормально\" as a response with a confidence of 1.0\n",
      "2017-09-16 18:16:43,060 - chatterbot.adapters - INFO - LowConfidenceAdapter selected \"Я недоучился, поэтому не могу понять о чем речь\" as a response with a confidence of 0\n",
      "2017-09-16 18:16:43,064 - chatterbot.adapters - INFO - NoKnowledgeAdapter selected \"Как дела?\" as a response with a confidence of 0\n",
      "2017-09-16 18:16:43,158 - root - INFO - Ответа на вопрос -Как дела?- прошел успешно\n",
      "2017-09-16 18:16:49,728 - root - INFO - text of Maxim: Что делаешь?\n",
      "2017-09-16 18:16:49,801 - chatterbot.adapters - INFO - Recieved input statement: Что делаешь?\n",
      "2017-09-16 18:16:49,805 - chatterbot.adapters - INFO - \"Что делаешь?\" is not a known statement\n",
      "2017-09-16 18:16:49,885 - chatterbot.adapters - INFO - Using \"Что делаешь?\" as a close match to \"как дела?\"\n",
      "2017-09-16 18:16:49,889 - chatterbot.adapters - INFO - Selecting response from 1 optimal responses.\n",
      "2017-09-16 18:16:49,890 - chatterbot.response_selection - INFO - Selecting first response from list of 1 options.\n",
      "2017-09-16 18:16:49,891 - chatterbot.adapters - INFO - Response selected. Using \" Да нормально\"\n",
      "2017-09-16 18:16:49,893 - chatterbot.adapters - INFO - BestMatch selected \" Да нормально\" as a response with a confidence of 0.57\n",
      "2017-09-16 18:16:49,976 - chatterbot.adapters - INFO - LowConfidenceAdapter selected \"Я недоучился, поэтому не могу понять о чем речь\" as a response with a confidence of 0\n",
      "2017-09-16 18:16:49,983 - chatterbot.adapters - INFO - NoKnowledgeAdapter selected \"Что делаешь?\" as a response with a confidence of 0\n",
      "2017-09-16 18:16:49,985 - chatterbot.chatterbot - INFO - Adding \"Что делаешь?\" as a response to \" Да нормально\"\n",
      "2017-09-16 18:16:50,073 - root - INFO - Ответа на вопрос -Что делаешь?- прошел успешно\n",
      "2017-09-16 18:17:09,202 - root - INFO - text of Maxim: Что\n",
      "2017-09-16 18:17:09,278 - chatterbot.adapters - INFO - Recieved input statement: Что\n",
      "2017-09-16 18:17:09,281 - chatterbot.adapters - INFO - \"Что\" is not a known statement\n",
      "2017-09-16 18:17:09,376 - chatterbot.adapters - INFO - Using \"Что\" as a close match to \"Честно говоря я хз\"\n",
      "2017-09-16 18:17:09,409 - chatterbot.adapters - INFO - Selecting response from 13 optimal responses.\n",
      "2017-09-16 18:17:09,410 - chatterbot.response_selection - INFO - Selecting first response from list of 13 options.\n",
      "2017-09-16 18:17:09,411 - chatterbot.adapters - INFO - Response selected. Using \"  ?\"\n",
      "2017-09-16 18:17:09,413 - chatterbot.adapters - INFO - BestMatch selected \"  ?\" as a response with a confidence of 0.29\n",
      "2017-09-16 18:17:09,506 - chatterbot.adapters - INFO - LowConfidenceAdapter selected \"Я недоучился, поэтому не могу понять о чем речь\" as a response with a confidence of 1\n",
      "2017-09-16 18:17:09,513 - chatterbot.adapters - INFO - NoKnowledgeAdapter selected \"Что\" as a response with a confidence of 0\n",
      "2017-09-16 18:17:09,514 - chatterbot.chatterbot - INFO - Adding \"Что\" as a response to \" Да нормально\"\n",
      "2017-09-16 18:17:09,593 - root - INFO - Ответа на вопрос -Что- прошел успешно\n",
      "2017-09-16 18:17:15,728 - root - INFO - text of Maxim: Любишь варить суп?\n",
      "2017-09-16 18:17:15,797 - chatterbot.adapters - INFO - Recieved input statement: Любишь варить суп?\n",
      "2017-09-16 18:17:15,804 - chatterbot.adapters - INFO - \"Любишь варить суп?\" is not a known statement\n",
      "2017-09-16 18:17:15,895 - chatterbot.adapters - INFO - Using \"Любишь варить суп?\" as a close match to \"Как сварить суп?\"\n",
      "2017-09-16 18:17:15,899 - chatterbot.adapters - INFO - Selecting response from 1 optimal responses.\n",
      "2017-09-16 18:17:15,900 - chatterbot.response_selection - INFO - Selecting first response from list of 1 options.\n",
      "2017-09-16 18:17:15,901 - chatterbot.adapters - INFO - Response selected. Using \"Честно говоря я хз\"\n",
      "2017-09-16 18:17:15,903 - chatterbot.adapters - INFO - BestMatch selected \"Честно говоря я хз\" as a response with a confidence of 0.71\n",
      "2017-09-16 18:17:15,987 - chatterbot.adapters - INFO - LowConfidenceAdapter selected \"Я недоучился, поэтому не могу понять о чем речь\" as a response with a confidence of 0\n",
      "2017-09-16 18:17:15,992 - chatterbot.adapters - INFO - NoKnowledgeAdapter selected \"Любишь варить суп?\" as a response with a confidence of 0\n",
      "2017-09-16 18:17:15,993 - chatterbot.chatterbot - INFO - Adding \"Любишь варить суп?\" as a response to \"Я недоучился, поэтому не могу понять о чем речь\"\n",
      "2017-09-16 18:17:16,149 - root - INFO - Ответа на вопрос -Любишь варить суп?- прошел успешно\n",
      "2017-09-16 18:17:48,744 - root - INFO - text of Maxim: Тыщ пышь тырыпышь | Пыжыдышь\n"
     ]
    },
    {
     "name": "stdout",
     "output_type": "stream",
     "text": [
      "List Trainer: [####################] 100%"
     ]
    },
    {
     "name": "stderr",
     "output_type": "stream",
     "text": [
      "2017-09-16 18:17:48,854 - root - INFO - Обучение на обучающем тексте -Тыщ пышь тырыпышь | Пыжыдышь- прошло успешно\n"
     ]
    },
    {
     "name": "stdout",
     "output_type": "stream",
     "text": [
      "\r\n"
     ]
    },
    {
     "name": "stderr",
     "output_type": "stream",
     "text": [
      "2017-09-16 18:17:53,000 - root - INFO - text of Maxim: Тыщ пышь тырыпышь\n",
      "2017-09-16 18:17:53,072 - chatterbot.adapters - INFO - Recieved input statement: Тыщ пышь тырыпышь\n",
      "2017-09-16 18:17:53,077 - chatterbot.adapters - INFO - \"Тыщ пышь тырыпышь\" is not a known statement\n",
      "2017-09-16 18:17:53,157 - chatterbot.adapters - INFO - Using \"Тыщ пышь тырыпышь\" as a close match to \"тыща пыхать тырыпыхать\"\n",
      "2017-09-16 18:17:53,161 - chatterbot.adapters - INFO - Selecting response from 1 optimal responses.\n",
      "2017-09-16 18:17:53,163 - chatterbot.response_selection - INFO - Selecting first response from list of 1 options.\n",
      "2017-09-16 18:17:53,167 - chatterbot.adapters - INFO - Response selected. Using \" Пыжыдышь\"\n",
      "2017-09-16 18:17:53,169 - chatterbot.adapters - INFO - BestMatch selected \" Пыжыдышь\" as a response with a confidence of 0.77\n",
      "2017-09-16 18:17:53,246 - chatterbot.adapters - INFO - LowConfidenceAdapter selected \"Я недоучился, поэтому не могу понять о чем речь\" as a response with a confidence of 0\n",
      "2017-09-16 18:17:53,252 - chatterbot.adapters - INFO - NoKnowledgeAdapter selected \"Тыщ пышь тырыпышь\" as a response with a confidence of 0\n",
      "2017-09-16 18:17:53,255 - chatterbot.chatterbot - INFO - Adding \"Тыщ пышь тырыпышь\" as a response to \"Честно говоря я хз\"\n",
      "2017-09-16 18:17:53,338 - root - INFO - Ответа на вопрос -Тыщ пышь тырыпышь- прошел успешно\n",
      "2017-09-16 18:18:34,091 - root - INFO - text of Maxim: Тыщ пышь тырыпышь\n",
      "2017-09-16 18:18:34,166 - chatterbot.adapters - INFO - Recieved input statement: Тыщ пышь тырыпышь\n",
      "2017-09-16 18:18:34,174 - chatterbot.adapters - INFO - \"Тыщ пышь тырыпышь\" is a known statement\n",
      "2017-09-16 18:18:34,265 - chatterbot.adapters - INFO - Using \"Тыщ пышь тырыпышь\" as a close match to \"тыща пыхать тырыпыхать\"\n",
      "2017-09-16 18:18:34,269 - chatterbot.adapters - INFO - Selecting response from 1 optimal responses.\n",
      "2017-09-16 18:18:34,271 - chatterbot.response_selection - INFO - Selecting first response from list of 1 options.\n",
      "2017-09-16 18:18:34,273 - chatterbot.adapters - INFO - Response selected. Using \" Пыжыдышь\"\n",
      "2017-09-16 18:18:34,274 - chatterbot.adapters - INFO - BestMatch selected \" Пыжыдышь\" as a response with a confidence of 0.77\n",
      "2017-09-16 18:18:34,379 - chatterbot.adapters - INFO - LowConfidenceAdapter selected \"Я недоучился, поэтому не могу понять о чем речь\" as a response with a confidence of 0\n",
      "2017-09-16 18:18:34,383 - chatterbot.adapters - INFO - NoKnowledgeAdapter selected \"Тыщ пышь тырыпышь\" as a response with a confidence of 0\n",
      "2017-09-16 18:18:34,385 - chatterbot.chatterbot - INFO - Adding \"Тыщ пышь тырыпышь\" as a response to \" Пыжыдышь\"\n",
      "2017-09-16 18:18:34,481 - root - INFO - Ответа на вопрос -Тыщ пышь тырыпышь- прошел успешно\n"
     ]
    }
   ],
   "source": [
    "updater_predict.start_polling()"
   ]
  },
  {
   "cell_type": "code",
   "execution_count": null,
   "metadata": {
    "collapsed": true
   },
   "outputs": [],
   "source": []
  },
  {
   "cell_type": "code",
   "execution_count": null,
   "metadata": {
    "collapsed": true
   },
   "outputs": [],
   "source": []
  },
  {
   "cell_type": "code",
   "execution_count": null,
   "metadata": {
    "collapsed": true
   },
   "outputs": [],
   "source": []
  },
  {
   "cell_type": "code",
   "execution_count": null,
   "metadata": {
    "collapsed": true
   },
   "outputs": [],
   "source": []
  }
 ],
 "metadata": {
  "kernelspec": {
   "display_name": "Python 3",
   "language": "python",
   "name": "python3"
  },
  "language_info": {
   "codemirror_mode": {
    "name": "ipython",
    "version": 3
   },
   "file_extension": ".py",
   "mimetype": "text/x-python",
   "name": "python",
   "nbconvert_exporter": "python",
   "pygments_lexer": "ipython3",
   "version": "3.6.0"
  }
 },
 "nbformat": 4,
 "nbformat_minor": 2
}
