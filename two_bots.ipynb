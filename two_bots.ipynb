{
 "cells": [
  {
   "cell_type": "code",
   "execution_count": 15,
   "metadata": {
    "collapsed": false
   },
   "outputs": [],
   "source": [
    "import telegram, logging, soundfile, aifc, subprocess, os\n",
    "\n",
    "from telegram.ext import Updater, CommandHandler, Filters, MessageHandler\n",
    "\n",
    "from chatbotwrapper import PythonChatBot\n",
    "from io import BytesIO"
   ]
  },
  {
   "cell_type": "code",
   "execution_count": 2,
   "metadata": {
    "collapsed": false
   },
   "outputs": [],
   "source": [
    "chatbot = PythonChatBot(threshold=0.5)"
   ]
  },
  {
   "cell_type": "code",
   "execution_count": 3,
   "metadata": {
    "collapsed": true
   },
   "outputs": [],
   "source": [
    "logging.basicConfig(format='%(asctime)s - %(name)s - %(levelname)s - %(message)s', level=logging.INFO)"
   ]
  },
  {
   "cell_type": "code",
   "execution_count": 4,
   "metadata": {
    "collapsed": false
   },
   "outputs": [],
   "source": [
    "bot_train = telegram.Bot(token='386950793:AAFWQO5Exopgk-WwzHcrKEArN7tVM20OL4A')\n",
    "\n",
    "updater_train = Updater(token='386950793:AAFWQO5Exopgk-WwzHcrKEArN7tVM20OL4A')\n",
    "\n",
    "dispatcher_train = updater_train.dispatcher"
   ]
  },
  {
   "cell_type": "code",
   "execution_count": 5,
   "metadata": {
    "collapsed": false
   },
   "outputs": [],
   "source": [
    "def start_train(bot, update):\n",
    "    bot.send_message(chat_id=update.message.chat_id, text=\"\"\"Привет! Я готов обучаться!\\nПришли сообщением вопрос и ответ на него.\\nНе забудь разделить их вот этим симоволом \"|\" \"\"\")"
   ]
  },
  {
   "cell_type": "code",
   "execution_count": 6,
   "metadata": {
    "collapsed": true
   },
   "outputs": [],
   "source": [
    "def train(bot, update):\n",
    "    user = update.message.from_user\n",
    "    text = update.message.text\n",
    "    logging.info(\"text of %s: %s\" % (user.first_name, text))\n",
    "    bot.send_message(chat_id=update.message.chat_id, text=\"\"\"Спасибо, я постараюсь хорошо обучиться.\\nПокидай обучалок еще, мне нравится учиться\"\"\")\n",
    "    try:\n",
    "        train_text = text.split('|')\n",
    "        chatbot.train(train_text[0], train_text[1])\n",
    "    except Exception as e:\n",
    "        logging.warning(\"Произошла ошибка -{}- \\nНа обучающем тексте -{}-\".format(e, text))\n",
    "        bot.send_message(chat_id=update.message.chat_id, text=\"Не получилось обучиться. Может быть неправильный формат?\")\n",
    "    else:\n",
    "        logging.info(\"Обучение на обучающем тексте -{}- прошло успешно\".format(text))"
   ]
  },
  {
   "cell_type": "code",
   "execution_count": 7,
   "metadata": {
    "collapsed": true
   },
   "outputs": [],
   "source": [
    "start_handler_train = CommandHandler('start', start_train)\n",
    "text_handler_train = MessageHandler(Filters.text, train)\n",
    "\n",
    "dispatcher_train.add_handler(start_handler_train)\n",
    "dispatcher_train.add_handler(text_handler_train)"
   ]
  },
  {
   "cell_type": "code",
   "execution_count": 8,
   "metadata": {
    "collapsed": false
   },
   "outputs": [
    {
     "data": {
      "text/plain": [
       "<queue.Queue at 0x10a73d4a8>"
      ]
     },
     "execution_count": 8,
     "metadata": {},
     "output_type": "execute_result"
    }
   ],
   "source": [
    "updater_train.start_polling()"
   ]
  },
  {
   "cell_type": "code",
   "execution_count": 9,
   "metadata": {
    "collapsed": false
   },
   "outputs": [
    {
     "name": "stderr",
     "output_type": "stream",
     "text": [
      "2017-09-16 21:53:10,791 - pymorphy2.opencorpora_dict.wrapper - INFO - Loading dictionaries from /Users/max/anaconda/lib/python3.6/site-packages/pymorphy2_dicts/data\n",
      "2017-09-16 21:53:10,867 - pymorphy2.opencorpora_dict.wrapper - INFO - format: 2.4, revision: 393442, updated: 2015-01-17T16:03:56.586168\n"
     ]
    }
   ],
   "source": [
    "bot_predict = telegram.Bot(token='383933408:AAHmUeE2FX_tODZfiqZUSDMNHYuO-31q1p4')\n",
    "\n",
    "updater_predict = Updater(token='383933408:AAHmUeE2FX_tODZfiqZUSDMNHYuO-31q1p4')\n",
    "\n",
    "dispatcher_predict = updater_predict.dispatcher\n",
    "\n",
    "chatbot_predict = PythonChatBot(threshold=0.5, read_only=True)"
   ]
  },
  {
   "cell_type": "code",
   "execution_count": 10,
   "metadata": {
    "collapsed": true
   },
   "outputs": [],
   "source": [
    "def start_predict(bot, update):\n",
    "    bot.send_message(chat_id=update.message.chat_id, text=\"\"\"Привет! Меня еще учат, но кажется что я более-менее готов отвечать на вопросы\"\"\")"
   ]
  },
  {
   "cell_type": "code",
   "execution_count": 11,
   "metadata": {
    "collapsed": false
   },
   "outputs": [],
   "source": [
    "def predict(bot, update):\n",
    "    user = update.message.from_user\n",
    "    text = update.message.text\n",
    "    logging.info(\"text of %s: %s\" % (user.first_name, text))\n",
    "    try:\n",
    "        response = chatbot_predict.response(text)\n",
    "    except Exception as e:\n",
    "        bot.send_message(chat_id=update.message.chat_id, text=\"К сожалению что-то пошло не так\")\n",
    "        logging.warning(\"Произошла ошибка -{}- \\nПытался ответить на -{}-\".format(e, text))\n",
    "    else:\n",
    "        bot.send_message(chat_id=update.message.chat_id, text=response)\n",
    "        logging.info(\"Ответа на вопрос -{}- прошел успешно\".format(text))"
   ]
  },
  {
   "cell_type": "code",
   "execution_count": 12,
   "metadata": {
    "collapsed": false
   },
   "outputs": [],
   "source": [
    "def predict_sound(bot, update):\n",
    "    import subprocess\n",
    "    user = update.message.from_user\n",
    "    filepath = '{}_question'.format(user.first_name)\n",
    "    #filepath = 'woman1_wb.wav'\n",
    "    try:\n",
    "        file_id = update.message.voice.file_id\n",
    "        newFile = bot.get_file(file_id)\n",
    "        newFile.download(filepath + '_wb.mp3')\n",
    "        subprocess.call(['ffmpeg', '-i', filepath + '_wb.mp3', filepath + '_wb.wav'])\n",
    "        answer = chatbot_predict.response_sound(filepath + '_wb.wav')\n",
    "        os.remove(filepath+'_wb.mp3')\n",
    "        os.remove(filepath+'_wb.wav')\n",
    "        bot.send_message(chat_id=update.message.chat_id, text=str(answer))\n",
    "    except Exception as e:\n",
    "        logging.warning(\"Произошла ошибка -{}- \\nПытался ответить на звук\".format(e))\n",
    "        bot.send_message(chat_id=update.message.chat_id, text=\"К сожалению что-то пошло не так\")"
   ]
  },
  {
   "cell_type": "code",
   "execution_count": 13,
   "metadata": {
    "collapsed": false
   },
   "outputs": [],
   "source": [
    "start_handler_predict = CommandHandler('start', start_predict)\n",
    "text_handler_predict = MessageHandler(Filters.text & (~Filters.voice), predict)\n",
    "voice_handler_predict = MessageHandler(Filters.voice, predict_sound)\n",
    "\n",
    "dispatcher_predict.add_handler(start_handler_predict)\n",
    "dispatcher_predict.add_handler(text_handler_predict)\n",
    "dispatcher_predict.add_handler(voice_handler_predict)"
   ]
  },
  {
   "cell_type": "code",
   "execution_count": 14,
   "metadata": {
    "collapsed": false,
    "scrolled": true
   },
   "outputs": [
    {
     "data": {
      "text/plain": [
       "<queue.Queue at 0x10a74db70>"
      ]
     },
     "execution_count": 14,
     "metadata": {},
     "output_type": "execute_result"
    },
    {
     "name": "stderr",
     "output_type": "stream",
     "text": [
      "2017-09-16 21:53:20,279 - chatterbot.adapters - INFO - Recieved input statement: 12345678\n",
      "2017-09-16 21:53:20,294 - chatterbot.adapters - INFO - \"12345678\" is not a known statement\n",
      "2017-09-16 21:53:20,328 - chatterbot.adapters - INFO - Using \"12345678\" as a close match to \"12345678\"\n",
      "2017-09-16 21:53:20,343 - chatterbot.adapters - INFO - No response to \"12345678\" found. Selecting a random response.\n",
      "2017-09-16 21:53:20,345 - chatterbot.adapters - INFO - BestMatch selected \"тыща пыхать тырыпыхать\" as a response with a confidence of 0\n",
      "2017-09-16 21:53:20,377 - chatterbot.adapters - INFO - LowConfidenceAdapter selected \"Я недоучился, поэтому не могу понять о чем речь\" as a response with a confidence of 1\n",
      "2017-09-16 21:53:20,391 - chatterbot.adapters - INFO - NoKnowledgeAdapter selected \"12345678\" as a response with a confidence of 0\n",
      "2017-09-16 21:53:33,180 - chatterbot.adapters - INFO - Recieved input statement: 12345678\n",
      "2017-09-16 21:53:33,186 - chatterbot.adapters - INFO - \"12345678\" is not a known statement\n",
      "2017-09-16 21:53:33,216 - chatterbot.adapters - INFO - Using \"12345678\" as a close match to \"12345678\"\n",
      "2017-09-16 21:53:33,229 - chatterbot.adapters - INFO - No response to \"12345678\" found. Selecting a random response.\n",
      "2017-09-16 21:53:33,230 - chatterbot.adapters - INFO - BestMatch selected \"как у ты дела?\" as a response with a confidence of 0\n",
      "2017-09-16 21:53:33,255 - chatterbot.adapters - INFO - LowConfidenceAdapter selected \"Я недоучился, поэтому не могу понять о чем речь\" as a response with a confidence of 1\n",
      "2017-09-16 21:53:33,262 - chatterbot.adapters - INFO - NoKnowledgeAdapter selected \"12345678\" as a response with a confidence of 0\n",
      "2017-09-16 21:53:33,263 - chatterbot.chatterbot - INFO - Adding \"12345678\" as a response to \"Я недоучился, поэтому не могу понять о чем речь\"\n"
     ]
    }
   ],
   "source": [
    "updater_predict.start_polling()"
   ]
  },
  {
   "cell_type": "code",
   "execution_count": null,
   "metadata": {
    "collapsed": false
   },
   "outputs": [],
   "source": []
  },
  {
   "cell_type": "code",
   "execution_count": null,
   "metadata": {
    "collapsed": true
   },
   "outputs": [],
   "source": []
  },
  {
   "cell_type": "code",
   "execution_count": null,
   "metadata": {
    "collapsed": true
   },
   "outputs": [],
   "source": []
  },
  {
   "cell_type": "code",
   "execution_count": null,
   "metadata": {
    "collapsed": false
   },
   "outputs": [],
   "source": []
  },
  {
   "cell_type": "code",
   "execution_count": null,
   "metadata": {
    "collapsed": true
   },
   "outputs": [],
   "source": []
  }
 ],
 "metadata": {
  "kernelspec": {
   "display_name": "Python 3",
   "language": "python",
   "name": "python3"
  },
  "language_info": {
   "codemirror_mode": {
    "name": "ipython",
    "version": 3
   },
   "file_extension": ".py",
   "mimetype": "text/x-python",
   "name": "python",
   "nbconvert_exporter": "python",
   "pygments_lexer": "ipython3",
   "version": "3.6.0"
  }
 },
 "nbformat": 4,
 "nbformat_minor": 2
}
