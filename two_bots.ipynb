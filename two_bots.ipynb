{
 "cells": [
  {
   "cell_type": "code",
   "execution_count": 1,
   "metadata": {
    "collapsed": false
   },
   "outputs": [],
   "source": [
    "import telegram, logging, soundfile, aifc, subprocess, os\n",
    "\n",
    "from telegram.ext import Updater, CommandHandler, Filters, MessageHandler\n",
    "\n",
    "from chatbotwrapper import PythonChatBot\n",
    "from loggers import get_logger"
   ]
  },
  {
   "cell_type": "code",
   "execution_count": 2,
   "metadata": {
    "collapsed": false
   },
   "outputs": [],
   "source": [
    "chatbot = PythonChatBot(threshold=0.5)"
   ]
  },
  {
   "cell_type": "code",
   "execution_count": 3,
   "metadata": {
    "collapsed": false
   },
   "outputs": [],
   "source": [
    "train_log = get_logger('train_bot.log', logging.INFO)\n",
    "test_log = get_logger('test_bot.log', logging.INFO)"
   ]
  },
  {
   "cell_type": "code",
   "execution_count": null,
   "metadata": {
    "collapsed": false
   },
   "outputs": [],
   "source": []
  },
  {
   "cell_type": "code",
   "execution_count": 4,
   "metadata": {
    "collapsed": false
   },
   "outputs": [],
   "source": [
    "bot_train = telegram.Bot(token='386950793:AAFWQO5Exopgk-WwzHcrKEArN7tVM20OL4A')\n",
    "\n",
    "updater_train = Updater(token='386950793:AAFWQO5Exopgk-WwzHcrKEArN7tVM20OL4A')\n",
    "\n",
    "dispatcher_train = updater_train.dispatcher"
   ]
  },
  {
   "cell_type": "code",
   "execution_count": 5,
   "metadata": {
    "collapsed": false
   },
   "outputs": [],
   "source": [
    "def start_train(bot, update):\n",
    "    bot.send_message(chat_id=update.message.chat_id, text=\"\"\"Привет! Я готов обучаться!\\nПришли сообщением вопрос и ответ на него.\\nНе забудь разделить их вот этим симоволом \"|\" \"\"\")"
   ]
  },
  {
   "cell_type": "code",
   "execution_count": 6,
   "metadata": {
    "collapsed": true
   },
   "outputs": [],
   "source": [
    "def train(bot, update):\n",
    "    user = update.message.from_user\n",
    "    text = update.message.text\n",
    "    train_log.info(\"text of %s: %s\" % (user.first_name, text))\n",
    "    bot.send_message(chat_id=update.message.chat_id, text=\"\"\"Спасибо, я постараюсь хорошо обучиться.\\nПокидай обучалок еще, мне нравится учиться\"\"\")\n",
    "    try:\n",
    "        train_text = text.split('|')\n",
    "        chatbot.train(train_text[0], train_text[1])\n",
    "    except Exception as e:\n",
    "        train_log.warning(\"Произошла ошибка -{}- \\nНа обучающем тексте -{}-\".format(e, text))\n",
    "        bot.send_message(chat_id=update.message.chat_id, text=\"Не получилось обучиться. Может быть неправильный формат?\")\n",
    "    else:\n",
    "        train_log.info(\"Обучение на обучающем тексте -{}- прошло успешно\".format(text))"
   ]
  },
  {
   "cell_type": "code",
   "execution_count": 7,
   "metadata": {
    "collapsed": false
   },
   "outputs": [],
   "source": [
    "start_handler_train = CommandHandler('start', start_train)\n",
    "text_handler_train = MessageHandler(Filters.text, train)\n",
    "\n",
    "dispatcher_train.add_handler(start_handler_train)\n",
    "dispatcher_train.add_handler(text_handler_train)"
   ]
  },
  {
   "cell_type": "code",
   "execution_count": 8,
   "metadata": {
    "collapsed": false
   },
   "outputs": [
    {
     "data": {
      "text/plain": [
       "<queue.Queue at 0x1146478d0>"
      ]
     },
     "execution_count": 8,
     "metadata": {},
     "output_type": "execute_result"
    }
   ],
   "source": [
    "updater_train.start_polling()"
   ]
  },
  {
   "cell_type": "code",
   "execution_count": 9,
   "metadata": {
    "collapsed": false
   },
   "outputs": [],
   "source": [
    "bot_predict = telegram.Bot(token='383933408:AAHmUeE2FX_tODZfiqZUSDMNHYuO-31q1p4')\n",
    "\n",
    "updater_predict = Updater(token='383933408:AAHmUeE2FX_tODZfiqZUSDMNHYuO-31q1p4')\n",
    "\n",
    "dispatcher_predict = updater_predict.dispatcher\n",
    "\n",
    "chatbot_predict = PythonChatBot(threshold=0.5, read_only=True)"
   ]
  },
  {
   "cell_type": "code",
   "execution_count": 10,
   "metadata": {
    "collapsed": true
   },
   "outputs": [],
   "source": [
    "def start_predict(bot, update):\n",
    "    bot.send_message(chat_id=update.message.chat_id, text=\"\"\"Привет! Меня еще учат, но кажется что я более-менее готов отвечать на вопросы\"\"\")"
   ]
  },
  {
   "cell_type": "code",
   "execution_count": 11,
   "metadata": {
    "collapsed": false
   },
   "outputs": [],
   "source": [
    "def predict(bot, update):\n",
    "    user = update.message.from_user\n",
    "    text = update.message.text\n",
    "    test_log.info(\"text of %s: %s\" % (user.first_name, text))\n",
    "    try:\n",
    "        response = chatbot_predict.response(text)\n",
    "    except Exception as e:\n",
    "        bot.send_message(chat_id=update.message.chat_id, text=\"К сожалению что-то пошло не так\")\n",
    "        test_log.warning(\"Произошла ошибка -{}- \\nПытался ответить на -{}-\".format(e, text))\n",
    "    else:\n",
    "        bot.send_message(chat_id=update.message.chat_id, text=response)\n",
    "        test_log.info(\"Ответ на вопрос -{}- прошел успешно\".format(text))"
   ]
  },
  {
   "cell_type": "code",
   "execution_count": 12,
   "metadata": {
    "collapsed": false
   },
   "outputs": [],
   "source": [
    "def predict_sound(bot, update):\n",
    "    import subprocess\n",
    "    user = update.message.from_user\n",
    "    filepath = '{}_question'.format(user.first_name)\n",
    "    try:\n",
    "        file_id = update.message.voice.file_id\n",
    "        newFile = bot.get_file(file_id)\n",
    "        newFile.download(filepath + '_wb.mp3')\n",
    "        subprocess.call(['ffmpeg', '-i', filepath + '_wb.mp3', filepath + '_wb.wav'])\n",
    "        answer = chatbot_predict.response_sound(filepath + '_wb.wav')\n",
    "        os.remove(filepath+'_wb.mp3')\n",
    "        os.remove(filepath+'_wb.wav')\n",
    "        bot.send_message(chat_id=update.message.chat_id, text=str(answer))\n",
    "        test_log.info(\"Ответ на вопрос -{}- прошел успешно. Ответ на звук\".format(str(answer)))\n",
    "    except Exception as e:\n",
    "        test_log.warning(\"Произошла ошибка -{}- \\nПытался ответить на звук\".format(e))\n",
    "        bot.send_message(chat_id=update.message.chat_id, text=\"К сожалению что-то пошло не так\")"
   ]
  },
  {
   "cell_type": "code",
   "execution_count": 13,
   "metadata": {
    "collapsed": false
   },
   "outputs": [],
   "source": [
    "start_handler_predict = CommandHandler('start', start_predict)\n",
    "text_handler_predict = MessageHandler(Filters.text & (~Filters.voice), predict)\n",
    "voice_handler_predict = MessageHandler(Filters.voice, predict_sound)\n",
    "\n",
    "dispatcher_predict.add_handler(start_handler_predict)\n",
    "dispatcher_predict.add_handler(text_handler_predict)\n",
    "dispatcher_predict.add_handler(voice_handler_predict)"
   ]
  },
  {
   "cell_type": "code",
   "execution_count": 14,
   "metadata": {
    "collapsed": false,
    "scrolled": true
   },
   "outputs": [
    {
     "data": {
      "text/plain": [
       "<queue.Queue at 0x11468c160>"
      ]
     },
     "execution_count": 14,
     "metadata": {},
     "output_type": "execute_result"
    },
    {
     "name": "stdout",
     "output_type": "stream",
     "text": [
      "List Trainer: [####################] 100%\n",
      "List Trainer: [####################] 100%\n",
      "List Trainer: [####################] 100%\n"
     ]
    }
   ],
   "source": [
    "updater_predict.start_polling()"
   ]
  },
  {
   "cell_type": "code",
   "execution_count": null,
   "metadata": {
    "collapsed": false
   },
   "outputs": [],
   "source": []
  },
  {
   "cell_type": "code",
   "execution_count": null,
   "metadata": {
    "collapsed": true
   },
   "outputs": [],
   "source": []
  },
  {
   "cell_type": "code",
   "execution_count": null,
   "metadata": {
    "collapsed": true
   },
   "outputs": [],
   "source": []
  },
  {
   "cell_type": "code",
   "execution_count": null,
   "metadata": {
    "collapsed": false
   },
   "outputs": [],
   "source": []
  },
  {
   "cell_type": "code",
   "execution_count": null,
   "metadata": {
    "collapsed": true
   },
   "outputs": [],
   "source": []
  }
 ],
 "metadata": {
  "kernelspec": {
   "display_name": "Python 3",
   "language": "python",
   "name": "python3"
  },
  "language_info": {
   "codemirror_mode": {
    "name": "ipython",
    "version": 3
   },
   "file_extension": ".py",
   "mimetype": "text/x-python",
   "name": "python",
   "nbconvert_exporter": "python",
   "pygments_lexer": "ipython3",
   "version": "3.6.0"
  }
 },
 "nbformat": 4,
 "nbformat_minor": 2
}
